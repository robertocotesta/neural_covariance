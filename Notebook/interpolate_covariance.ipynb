{
  "cells": [
    {
      "cell_type": "code",
      "source": [
        "!git clone https://github.com/robertocotesta/neural_covariance.git"
      ],
      "metadata": {
        "colab": {
          "base_uri": "https://localhost:8080/"
        },
        "id": "WyiLMwRglaC0",
        "outputId": "8c7cac2a-60aa-4b24-f96c-cd93a0f91276"
      },
      "id": "WyiLMwRglaC0",
      "execution_count": 1,
      "outputs": [
        {
          "output_type": "stream",
          "name": "stdout",
          "text": [
            "fatal: destination path 'neural_covariance' already exists and is not an empty directory.\n"
          ]
        }
      ]
    },
    {
      "cell_type": "code",
      "execution_count": 1,
      "id": "a704ab3e",
      "metadata": {
        "id": "a704ab3e"
      },
      "outputs": [],
      "source": [
        "import pickle\n",
        "import pandas as pd\n",
        "import numpy as np\n",
        "from sklearn.preprocessing import StandardScaler\n",
        "from sklearn.model_selection import train_test_split\n",
        "from torch import nn\n",
        "import torch\n",
        "from torch.utils.data import Dataset\n",
        "from torch.utils.data import DataLoader\n",
        "import matplotlib.pyplot as plt\n",
        "from tqdm import tqdm"
      ]
    },
    {
      "cell_type": "markdown",
      "id": "2322d480",
      "metadata": {
        "id": "2322d480"
      },
      "source": [
        "## Data wrangling"
      ]
    },
    {
      "cell_type": "code",
      "execution_count": 2,
      "id": "bb3215ec",
      "metadata": {
        "id": "bb3215ec"
      },
      "outputs": [],
      "source": [
        "param_list = ['Mc', 'eta', 'DL', 'tc', 'phic', 'iota', 'ra', 'dec', 'psi']"
      ]
    },
    {
      "cell_type": "code",
      "execution_count": 3,
      "id": "34b4d5b6",
      "metadata": {
        "id": "34b4d5b6"
      },
      "outputs": [],
      "source": [
        "def recreate_symmetric_matrix(size_X,X_flatten):\n",
        "    X = np.zeros((size_X,size_X))\n",
        "    X[np.triu_indices(X.shape[0], k = 0)] = X_flatten\n",
        "    X = X + X.T - np.diag(np.diag(X))\n",
        "    return X\n",
        "\n",
        "def flatten_symmetric_matrix(X):\n",
        "    return X[np.triu_indices(X.shape[0], k = 0)]"
      ]
    },
    {
      "cell_type": "code",
      "execution_count": 4,
      "id": "1e6d1943",
      "metadata": {
        "id": "1e6d1943"
      },
      "outputs": [],
      "source": [
        "with open('/content/neural_covariance/Data/input.pkl','rb') as f:\n",
        "    input_dataset = pickle.load(f)\n",
        "with open('/content/neural_covariance/Data/output.pkl','rb') as f:\n",
        "    output_dataset = pickle.load(f)    \n",
        "with open('/content/neural_covariance/Data/SNRs.pkl','rb') as f:\n",
        "    SNR_dataset = pickle.load(f)      "
      ]
    },
    {
      "cell_type": "code",
      "execution_count": 5,
      "id": "af09a99c",
      "metadata": {
        "id": "af09a99c"
      },
      "outputs": [],
      "source": [
        "input_df = pd.DataFrame.from_dict(input_dataset, orient='index',columns=param_list)\n",
        "# Only select columns that actually change\n",
        "input_df = input_df[['Mc', 'eta', 'DL', 'iota', 'ra', 'dec']]"
      ]
    },
    {
      "cell_type": "code",
      "execution_count": 6,
      "id": "247edd6a",
      "metadata": {
        "id": "247edd6a"
      },
      "outputs": [],
      "source": [
        "# Each matrix is symmetric, hence I only extract and flatten its triangular upper part\n",
        "output_df = pd.DataFrame(data=[flatten_symmetric_matrix(output_dataset[i]) for i in output_dataset.keys()])"
      ]
    },
    {
      "cell_type": "code",
      "execution_count": 7,
      "id": "054e4499",
      "metadata": {
        "id": "054e4499"
      },
      "outputs": [],
      "source": [
        "# Load SNR for interpolation\n",
        "SNR_df = pd.DataFrame(data=SNR_dataset)"
      ]
    },
    {
      "cell_type": "code",
      "execution_count": 8,
      "id": "cd3d14ac",
      "metadata": {
        "id": "cd3d14ac"
      },
      "outputs": [],
      "source": [
        "# Split test, train, CV for Fisher\n",
        "# X_train, X_test, y_train, y_test = train_test_split(scaled_input_df,output_df.values,test_size=0.4,random_state=0)\n",
        "# X_CV, X_test, y_CV, y_test = train_test_split(X_test,y_test,test_size=0.5,random_state=0)"
      ]
    },
    {
      "cell_type": "code",
      "execution_count": 11,
      "id": "9be3283c",
      "metadata": {
        "id": "9be3283c"
      },
      "outputs": [],
      "source": [
        "# Split test, train, CV for SNR\n",
        "X_train, X_test, y_train, y_test = train_test_split(input_df.values,SNR_df.values,test_size=0.4,random_state=0)\n",
        "X_CV, X_test, y_CV, y_test = train_test_split(X_test,y_test,test_size=0.5,random_state=0)"
      ]
    },
    {
      "cell_type": "code",
      "source": [
        "# i_max = 2000\n",
        "# X_train, y_train = X_train[:i_max], y_train[:i_max]"
      ],
      "metadata": {
        "id": "MSWey9Pz4LBW"
      },
      "id": "MSWey9Pz4LBW",
      "execution_count": 12,
      "outputs": []
    },
    {
      "cell_type": "code",
      "source": [
        "# sc_Input = StandardScaler()\n",
        "# sc_Output = StandardScaler()\n",
        "# input_df = input_df[['Mc', 'eta', 'DL', 'iota', 'ra', 'dec']]\n",
        "# # Scaling input\n",
        "# scaled_input_df = sc_Input.fit_transform(input_df)\n",
        "# # Scaling output\n",
        "# scaled_output_df = sc_Output.fit_transform(output_df)"
      ],
      "metadata": {
        "id": "9VZBOfSyRC9e"
      },
      "id": "9VZBOfSyRC9e",
      "execution_count": 13,
      "outputs": []
    },
    {
      "cell_type": "markdown",
      "id": "6936d511",
      "metadata": {
        "id": "6936d511"
      },
      "source": [
        "## Build interpolant"
      ]
    },
    {
      "cell_type": "code",
      "execution_count": 14,
      "id": "fe13090f",
      "metadata": {
        "id": "fe13090f"
      },
      "outputs": [],
      "source": [
        "# Definition of the device for training\n",
        "device = \"cuda\" if torch.cuda.is_available() else \"cpu\""
      ]
    },
    {
      "cell_type": "code",
      "source": [
        "# General settings for the training\n",
        "epochs = 10000\n",
        "lr = 0.001\n",
        "batch_size  = y_train.shape[0]\n",
        "input_layer_dim = X_train.shape[1]\n",
        "output_layer_dim = y_train.shape[1]"
      ],
      "metadata": {
        "id": "Qxt8qXDLCSiu"
      },
      "id": "Qxt8qXDLCSiu",
      "execution_count": 50,
      "outputs": []
    },
    {
      "cell_type": "code",
      "execution_count": 16,
      "id": "15851cb6",
      "metadata": {
        "id": "15851cb6"
      },
      "outputs": [],
      "source": [
        "# Definition of the neural network\n",
        "class interpolant(nn.Module):\n",
        "    def __init__(self,dim_input,dim_output):\n",
        "        super().__init__()\n",
        "        self.linear_relu_stack = nn.Sequential(\n",
        "            nn.Linear(dim_input, 16),\n",
        "            nn.ReLU(),\n",
        "            nn.Linear(16, dim_output),\n",
        "        )\n",
        "        \n",
        "    def forward(self,X):\n",
        "        return self.linear_relu_stack(X)"
      ]
    },
    {
      "cell_type": "code",
      "execution_count": 17,
      "id": "a57675d8",
      "metadata": {
        "id": "a57675d8"
      },
      "outputs": [],
      "source": [
        "model = interpolant(input_layer_dim,output_layer_dim).to(device)"
      ]
    },
    {
      "cell_type": "code",
      "source": [
        "X_train = torch.from_numpy(X_train).float()\n",
        "y_train = torch.from_numpy(y_train).float()\n",
        "\n",
        "X_CV = torch.from_numpy(X_CV).float()\n",
        "y_CV = torch.from_numpy(y_CV).float()"
      ],
      "metadata": {
        "id": "kU4LzUT_sv0V"
      },
      "id": "kU4LzUT_sv0V",
      "execution_count": 18,
      "outputs": []
    },
    {
      "cell_type": "code",
      "source": [
        "X_train_mean = X_train.mean(axis=0)\n",
        "X_train_std = X_train.std(axis=0)\n",
        "X_train_normalized = (X_train-X_train_mean)/X_train_std\n",
        "X_CV_normalized = (X_CV-X_train_mean)/X_train_std"
      ],
      "metadata": {
        "id": "dETdrytQ1efM"
      },
      "id": "dETdrytQ1efM",
      "execution_count": 19,
      "outputs": []
    },
    {
      "cell_type": "code",
      "source": [
        "def train_loop(dataloader, model, loss_fn, optimizer):\n",
        "    for batch, (X, y) in enumerate(dataloader):\n",
        "        X = X.to(device)\n",
        "        y = y.to(device)\n",
        "        # Compute prediction and loss\n",
        "        pred = model(X)\n",
        "        loss = loss_fn(pred, y)\n",
        "\n",
        "        # Backpropagation\n",
        "        optimizer.zero_grad()\n",
        "        loss.backward()\n",
        "        optimizer.step()\n",
        "\n",
        "        loss_array.append(loss.item())\n",
        "\n",
        "    return loss_array"
      ],
      "metadata": {
        "id": "uLItLODlvcWl"
      },
      "id": "uLItLODlvcWl",
      "execution_count": 18,
      "outputs": []
    },
    {
      "cell_type": "code",
      "execution_count": 19,
      "id": "7dc8480c",
      "metadata": {
        "id": "7dc8480c"
      },
      "outputs": [],
      "source": [
        "# def train_loop(dataloader, model, loss_fn, optimizer):\n",
        "#     loss_array = []\n",
        "#     size = len(dataloader.dataset)\n",
        "#     for batch, (X, y) in enumerate(dataloader):\n",
        "#         X = X.to(device)\n",
        "#         y = y.to(device)\n",
        "#         # Compute prediction and loss\n",
        "#         pred = model(X)\n",
        "#         loss = loss_fn(pred, y)\n",
        "\n",
        "#         # Backpropagation\n",
        "#         optimizer.zero_grad()\n",
        "#         loss.backward()\n",
        "#         optimizer.step()\n",
        "\n",
        "#         loss_array.append(loss.item())\n",
        "\n",
        "#     return loss_array\n",
        "\n",
        "        # if batch % 100 == 0:\n",
        "        #     loss, current = loss.item(), batch * len(X)\n",
        "        #     print(f\"loss: {loss:.2E}  [{current:>5d}/{size:>5d}]\")\n",
        "\n",
        "\n",
        "# def test_loop(dataloader, model, loss_fn):\n",
        "#     size = len(dataloader.dataset)\n",
        "#     num_batches = len(dataloader)\n",
        "#     test_loss, correct = 0, 0\n",
        "\n",
        "#     with torch.no_grad():\n",
        "#         for X, y in dataloader:\n",
        "#             X = X.to(device)\n",
        "#             y = y.to(device)\n",
        "#             pred = model(X)\n",
        "#             test_loss += loss_fn(pred, y).item()\n",
        "\n",
        "#     test_loss /= num_batches\n",
        "#     print(f\"Avg loss: {test_loss:>8f} \\n\")"
      ]
    },
    {
      "cell_type": "code",
      "execution_count": 51,
      "id": "a9742ab3",
      "metadata": {
        "scrolled": false,
        "colab": {
          "base_uri": "https://localhost:8080/"
        },
        "id": "a9742ab3",
        "outputId": "57119235-8cee-4480-980f-1df585ee9588"
      },
      "outputs": [
        {
          "output_type": "stream",
          "name": "stderr",
          "text": [
            "100%|██████████| 10000/10000 [00:12<00:00, 812.83it/s]"
          ]
        },
        {
          "output_type": "stream",
          "name": "stdout",
          "text": [
            "Done!\n"
          ]
        },
        {
          "output_type": "stream",
          "name": "stderr",
          "text": [
            "\n"
          ]
        }
      ],
      "source": [
        "# Definition of loss function and optimizer\n",
        "loss_fn = nn.MSELoss()\n",
        "optimizer = torch.optim.Adam(model.parameters(),lr=lr)\n",
        "loss_array = []\n",
        "X = X_train_normalized.to(device)\n",
        "y = y_train.to(device)\n",
        "# Training loop\n",
        "for t in tqdm(range(epochs)):\n",
        "    #print(f\"Epoch {t+1}\\n-------------------------------\")\n",
        "    # Compute prediction and loss\n",
        "    pred = model(X)\n",
        "    loss = loss_fn(pred, y)\n",
        "\n",
        "    # Backpropagation\n",
        "    optimizer.zero_grad()\n",
        "    loss.backward()\n",
        "    optimizer.step()\n",
        "\n",
        "    loss_array.append(loss.item())\n",
        "print(\"Done!\")"
      ]
    },
    {
      "cell_type": "code",
      "source": [
        "plt.figure(figsize=(10,10))\n",
        "plt.scatter(np.arange(epochs),loss_array)\n",
        "plt.yscale('log')"
      ],
      "metadata": {
        "colab": {
          "base_uri": "https://localhost:8080/",
          "height": 592
        },
        "id": "BbY8gyL4odf4",
        "outputId": "df0965cb-9e8c-4a39-97eb-ec247739defa"
      },
      "id": "BbY8gyL4odf4",
      "execution_count": 52,
      "outputs": [
        {
          "output_type": "display_data",
          "data": {
            "text/plain": [
              "<Figure size 720x720 with 1 Axes>"
            ],
            "image/png": "[encoded data removed]"
          },
          "metadata": {
            "needs_background": "light"
          }
        }
      ]
    },
    {
      "cell_type": "code",
      "source": [
        "model(X_train_normalized)"
      ],
      "metadata": {
        "colab": {
          "base_uri": "https://localhost:8080/"
        },
        "id": "7FgtYhRapjqK",
        "outputId": "a0fa9be4-59cc-4fb3-8d88-12bba64c0d0c"
      },
      "id": "7FgtYhRapjqK",
      "execution_count": 53,
      "outputs": [
        {
          "output_type": "execute_result",
          "data": {
            "text/plain": [
              "tensor([[583.1855],\n",
              "        [374.3767],\n",
              "        [ 16.2285],\n",
              "        ...,\n",
              "        [720.5920],\n",
              "        [710.3943],\n",
              "        [  0.7857]], grad_fn=<AddmmBackward0>)"
            ]
          },
          "metadata": {},
          "execution_count": 53
        }
      ]
    },
    {
      "cell_type": "code",
      "source": [
        "y_train"
      ],
      "metadata": {
        "colab": {
          "base_uri": "https://localhost:8080/"
        },
        "id": "kwa6zt7jz1iU",
        "outputId": "433e73e8-e6e8-40f8-c8b1-f757a97aab04"
      },
      "id": "kwa6zt7jz1iU",
      "execution_count": 54,
      "outputs": [
        {
          "output_type": "execute_result",
          "data": {
            "text/plain": [
              "tensor([[596.9828],\n",
              "        [277.0709],\n",
              "        [ 37.8444],\n",
              "        ...,\n",
              "        [743.2487],\n",
              "        [835.4188],\n",
              "        [ 13.7737]])"
            ]
          },
          "metadata": {},
          "execution_count": 54
        }
      ]
    },
    {
      "cell_type": "code",
      "source": [],
      "metadata": {
        "id": "8vNL4Kqmz22m"
      },
      "id": "8vNL4Kqmz22m",
      "execution_count": 45,
      "outputs": []
    }
  ],
  "metadata": {
    "kernelspec": {
      "display_name": "Python 3 (ipykernel)",
      "language": "python",
      "name": "python3"
    },
    "language_info": {
      "codemirror_mode": {
        "name": "ipython",
        "version": 3
      },
      "file_extension": ".py",
      "mimetype": "text/x-python",
      "name": "python",
      "nbconvert_exporter": "python",
      "pygments_lexer": "ipython3",
      "version": "3.9.12"
    },
    "colab": {
      "provenance": []
    },
    "gpuClass": "standard"
  },
  "nbformat": 4,
  "nbformat_minor": 5
}